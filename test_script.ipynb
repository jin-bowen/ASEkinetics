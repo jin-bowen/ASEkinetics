{
 "cells": [
  {
   "cell_type": "code",
   "execution_count": 2,
   "metadata": {},
   "outputs": [],
   "source": [
    "from scipy import sparse\n",
    "import pandas as pd\n",
    "import numpy as np\n",
    "import sys"
   ]
  },
  {
   "cell_type": "code",
   "execution_count": 3,
   "metadata": {},
   "outputs": [],
   "source": [
    "from matplotlib.colors import ListedColormap\n",
    "import matplotlib.patches as mpatches\n",
    "import matplotlib.pyplot as plt\n",
    "import matplotlib as mpl\n",
    "plt.rcParams['font.size'] = 16\n",
    "plt.rcParams['axes.linewidth'] = 1"
   ]
  },
  {
   "cell_type": "code",
   "execution_count": 4,
   "metadata": {},
   "outputs": [
    {
     "name": "stderr",
     "output_type": "stream",
     "text": [
      "/home/bxj139/.usr/local/python/3.7.0/lib/python3.7/site-packages/dask/dataframe/io/csv.py:387: UserWarning: Warning gzip compression does not support breaking apart files\n",
      "Please ensure that each individual file can fit in memory and\n",
      "use the keyword ``blocksize=None to remove this message``\n",
      "Setting ``blocksize=None``\n",
      "  \"Setting ``blocksize=None``\" % compression\n"
     ]
    },
    {
     "data": {
      "text/plain": [
       "['/mnt/pan/Data14/ASEkinetics/Microglia_MO_AD4.mtx']"
      ]
     },
     "execution_count": 4,
     "metadata": {},
     "output_type": "execute_result"
    }
   ],
   "source": [
    "import dask.dataframe as dd\n",
    "import scipy.io\n",
    "import csv\n",
    "import gzip\n",
    "import os\n",
    "\n",
    "matrix_dir='filtered_feature_bc_matrix'\n",
    "mito_gene_list='mitochondrial.gene'\n",
    "outfile='Microglia_MO_AD4'\n",
    "\n",
    "mito_gene = np.loadtxt(mito_gene_list, dtype='str')\n",
    "mito_gene_df = pd.DataFrame(data=np.ones(len(mito_gene)), index=mito_gene, columns=['mito'])\n",
    "\n",
    "mat_path = os.path.join(matrix_dir, \"matrix.mtx.gz\")\n",
    "mat      = dd.read_csv(mat_path, skiprows=[0,1,2], names=['igene','icb','umi'], \\\n",
    "sep=' ', compression='gzip')\n",
    "\n",
    "features_path = os.path.join(matrix_dir, \"features.tsv.gz\")\n",
    "feature_raw   = dd.read_csv(features_path,names=['gene','gene_name','type'],\\\n",
    "sep='\\t',compression='gzip')\n",
    "\n",
    "feature = dd.merge(feature_raw,mito_gene_df,left_on='gene',right_index=True,how='left')\n",
    "feature['mito'] = feature['mito'].fillna(0)\n",
    "\n",
    "barcodes_path = os.path.join(matrix_dir, \"barcodes.tsv.gz\")\n",
    "barcodes      = dd.read_csv(barcodes_path,names=['cb'], sep=\"\\t\", compression='gzip')\n",
    "\n",
    "n_feature = feature.shape[0].compute()\n",
    "feature['igene'] = feature.index + 1\n",
    "df_12 = dd.merge(feature, mat, on='igene')\n",
    "\n",
    "n_barcode = barcodes.shape[0].compute()\n",
    "barcodes['icb'] = barcodes.index + 1\n",
    "df = dd.merge(df_12, barcodes, on='icb')\n",
    "df['mito_umi'] = df['mito'] * df['umi']\n",
    "\n",
    "cb_stat = df.groupby('cb').agg({'igene': ['count'],'umi':['sum'],'mito_umi':['sum']}).compute()\n",
    "\n",
    "cb_stat.columns = ['num_gene','num_umi','mito_umi']\n",
    "cb_stat['mito_percent'] = cb_stat['mito_umi'] / cb_stat['num_umi']\n",
    "num_gene_mean = np.mean(cb_stat['num_gene'])\n",
    "num_gene_std  = np.std(cb_stat['num_gene'])\n",
    "num_umi_mean  = np.mean(cb_stat['num_umi'])\n",
    "num_umi_std  = np.std(cb_stat['num_umi'])\n",
    "\n",
    "select1 = abs(cb_stat['num_gene'] - num_gene_mean) < num_gene_std\n",
    "select2 = abs(cb_stat['num_umi'] - num_umi_mean) < num_umi_std\n",
    "select3 = cb_stat['mito_percent'] < 0.2\n",
    "cb_stat['keep'] = 0\n",
    "cb_stat.loc[select1 & select2 & select3,'keep'] = 1\n",
    "\n",
    "cb_stat[['num_gene','num_umi','mito_percent','keep']].to_csv(outfile+'.qc')\n",
    "# dense matrix\n",
    "header=['cb','gene','umi']\n",
    "df[header].to_csv('%s.mtx'%outfile,header=True,index=False,single_file = True)"
   ]
  },
  {
   "cell_type": "code",
   "execution_count": 5,
   "metadata": {},
   "outputs": [
    {
     "data": {
      "text/plain": [
       "Text(0.5, 0, '# UMI')"
      ]
     },
     "execution_count": 5,
     "metadata": {},
     "output_type": "execute_result"
    },
    {
     "data": {
      "image/png": "[encoded data removed]",
      "text/plain": [
       "<Figure size 432x288 with 2 Axes>"
      ]
     },
     "metadata": {},
     "output_type": "display_data"
    },
    {
     "data": {
      "image/png": "[encoded data removed]",
      "text/plain": [
       "<Figure size 432x288 with 2 Axes>"
      ]
     },
     "metadata": {},
     "output_type": "display_data"
    }
   ],
   "source": [
    "fig,ax = plt.subplots(ncols=2, sharex=True, sharey=True, constrained_layout=True)\n",
    "ax[0].set_ylabel('# cell')\n",
    "ax[0].hist(cb_stat['num_gene'])\n",
    "ax[0].set_title('raw')\n",
    "ax[0].set_xlabel('# gene')\n",
    "ax[1].hist(cb_stat.loc[cb_stat['keep']==1,'num_gene'])\n",
    "ax[1].set_title('after filtering')\n",
    "ax[1].set_xlabel('# gene')\n",
    "\n",
    "fig,ax = plt.subplots(ncols=2, sharex=True, sharey=True, constrained_layout=True)\n",
    "ax[0].set_ylabel('# cell')\n",
    "ax[0].hist(cb_stat['num_umi'])\n",
    "ax[0].set_title('raw')\n",
    "ax[0].set_xlabel('# UMI')\n",
    "ax[1].hist(cb_stat.loc[cb_stat['keep']==1,'num_umi'])\n",
    "ax[1].set_title('after filtering')\n",
    "ax[1].set_xlabel('# UMI')"
   ]
  },
  {
   "cell_type": "code",
   "execution_count": 6,
   "metadata": {},
   "outputs": [],
   "source": [
    "from lib.ase_infer import *\n",
    "umi_file = 'Microglia_MO_AD4.mtx'\n",
    "ase_file = 'ENSG00000118785.ase'\n",
    "cb_file  = 'Microglia_MO_AD4.qc'\n",
    "out_prefix  = 'Microglia_MO_AD4'\n",
    "\n",
    "umi_raw = pd.read_csv(umi_file,dtype={'cb':str,'gene':str,'umi':float})\n",
    "ase_raw = pd.read_csv(ase_file,dtype={'allele_ref':str,'ub_ref':float,'allele_alt':str,'ub_alt':float})\n",
    "ase_raw['ub_alt'] = ase_raw['ub_alt'].fillna(0)\n",
    "ase_raw['ub_ref'] = ase_raw['ub_ref'].fillna(0)\n",
    "\n",
    "# filtered cells\n",
    "cb_raw = pd.read_csv(cb_file,header=0)\n",
    "cb_keep = cb_raw.loc[cb_raw['keep']==1]\n",
    "umi = pd.merge(umi_raw, cb_keep, on='cb')\n",
    "ase = pd.merge(ase_raw, cb_keep, on='cb')\n",
    "\n",
    "out_file = '%s.ase.class'%(out_prefix)\n",
    "ase_class = allele_class(ase,save=True,outfile=out_file)\n",
    "\n",
    "ase_infer_file = '%s.ase'%(out_prefix)\n",
    "allele_infer(umi,ase,ase_class,ase_infer_file)"
   ]
  },
  {
   "cell_type": "code",
   "execution_count": 7,
   "metadata": {},
   "outputs": [
    {
     "data": {
      "text/html": [
       "<div>\n",
       "<style scoped>\n",
       "    .dataframe tbody tr th:only-of-type {\n",
       "        vertical-align: middle;\n",
       "    }\n",
       "\n",
       "    .dataframe tbody tr th {\n",
       "        vertical-align: top;\n",
       "    }\n",
       "\n",
       "    .dataframe thead th {\n",
       "        text-align: right;\n",
       "    }\n",
       "</style>\n",
       "<table border=\"1\" class=\"dataframe\">\n",
       "  <thead>\n",
       "    <tr style=\"text-align: right;\">\n",
       "      <th></th>\n",
       "      <th>cb</th>\n",
       "      <th>gene</th>\n",
       "      <th>pos</th>\n",
       "      <th>allele_ref</th>\n",
       "      <th>ub_ref</th>\n",
       "      <th>allele_alt</th>\n",
       "      <th>ub_alt</th>\n",
       "      <th>umi</th>\n",
       "    </tr>\n",
       "  </thead>\n",
       "  <tbody>\n",
       "    <tr>\n",
       "      <th>0</th>\n",
       "      <td>CAAGTTGTCTACCTGC-1</td>\n",
       "      <td>ENSG00000118785</td>\n",
       "      <td>4:87982701</td>\n",
       "      <td>C</td>\n",
       "      <td>0.99</td>\n",
       "      <td>T</td>\n",
       "      <td>0.01</td>\n",
       "      <td>36.0</td>\n",
       "    </tr>\n",
       "    <tr>\n",
       "      <th>1</th>\n",
       "      <td>GGGTCTGCATGCAATC-1</td>\n",
       "      <td>ENSG00000118785</td>\n",
       "      <td>4:87982701</td>\n",
       "      <td>C</td>\n",
       "      <td>0.99</td>\n",
       "      <td>T</td>\n",
       "      <td>0.01</td>\n",
       "      <td>22.0</td>\n",
       "    </tr>\n",
       "    <tr>\n",
       "      <th>2</th>\n",
       "      <td>ATGTGTGCACCGCTAG-1</td>\n",
       "      <td>ENSG00000118785</td>\n",
       "      <td>4:87982701</td>\n",
       "      <td>C</td>\n",
       "      <td>0.99</td>\n",
       "      <td>T</td>\n",
       "      <td>0.01</td>\n",
       "      <td>96.0</td>\n",
       "    </tr>\n",
       "    <tr>\n",
       "      <th>3</th>\n",
       "      <td>GCAGCCAGTTTGACAC-1</td>\n",
       "      <td>ENSG00000118785</td>\n",
       "      <td>4:87982701</td>\n",
       "      <td>C</td>\n",
       "      <td>0.99</td>\n",
       "      <td>T</td>\n",
       "      <td>0.01</td>\n",
       "      <td>39.0</td>\n",
       "    </tr>\n",
       "    <tr>\n",
       "      <th>4</th>\n",
       "      <td>GCCTCTAGTACGCACC-1</td>\n",
       "      <td>ENSG00000118785</td>\n",
       "      <td>4:87982701</td>\n",
       "      <td>C</td>\n",
       "      <td>0.99</td>\n",
       "      <td>T</td>\n",
       "      <td>0.01</td>\n",
       "      <td>11.0</td>\n",
       "    </tr>\n",
       "  </tbody>\n",
       "</table>\n",
       "</div>"
      ],
      "text/plain": [
       "                   cb             gene         pos allele_ref  ub_ref  \\\n",
       "0  CAAGTTGTCTACCTGC-1  ENSG00000118785  4:87982701          C    0.99   \n",
       "1  GGGTCTGCATGCAATC-1  ENSG00000118785  4:87982701          C    0.99   \n",
       "2  ATGTGTGCACCGCTAG-1  ENSG00000118785  4:87982701          C    0.99   \n",
       "3  GCAGCCAGTTTGACAC-1  ENSG00000118785  4:87982701          C    0.99   \n",
       "4  GCCTCTAGTACGCACC-1  ENSG00000118785  4:87982701          C    0.99   \n",
       "\n",
       "  allele_alt  ub_alt   umi  \n",
       "0          T    0.01  36.0  \n",
       "1          T    0.01  22.0  \n",
       "2          T    0.01  96.0  \n",
       "3          T    0.01  39.0  \n",
       "4          T    0.01  11.0  "
      ]
     },
     "execution_count": 7,
     "metadata": {},
     "output_type": "execute_result"
    }
   ],
   "source": [
    "ase_infer_file = 'Microglia_MO_AD4.ase.infer'\n",
    "ase_infer = pd.read_csv(ase_infer_file,header=0)\n",
    "ase_infer.head(5)"
   ]
  },
  {
   "cell_type": "code",
   "execution_count": 8,
   "metadata": {},
   "outputs": [
    {
     "data": {
      "text/plain": [
       "Text(0.5, 0, 'ase ratio')"
      ]
     },
     "execution_count": 8,
     "metadata": {},
     "output_type": "execute_result"
    },
    {
     "data": {
      "image/png": "[encoded data removed]",
      "text/plain": [
       "<Figure size 432x288 with 2 Axes>"
      ]
     },
     "metadata": {},
     "output_type": "display_data"
    }
   ],
   "source": [
    "fig,ax = plt.subplots(ncols=2,sharex=True,sharey=True,constrained_layout=True)\n",
    "ax[0].hist(ase['ub_ref']/(ase['ub_ref']+ase['ub_alt']).round(5))\n",
    "ax[0].set_title('ase',loc='right')\n",
    "ax[0].set_xlabel('ase ratio')\n",
    "ax[0].set_ylabel('# cell')\n",
    "ax[1].hist(ase_infer['ub_ref'].round(5))\n",
    "ax[1].set_title('ase_infer',loc='right')\n",
    "ax[1].set_xlabel('ase ratio')"
   ]
  },
  {
   "cell_type": "code",
   "execution_count": 10,
   "metadata": {},
   "outputs": [],
   "source": [
    "from lib.ase_reform import *\n",
    "\n",
    "ase_sparse_mat, allele_list, cb_list = process(ase_infer)\n",
    "\n",
    "cb_idx = pd.DataFrame(cb_list, columns=['cb'])\n",
    "cb_idx.reset_index(inplace=True)\n",
    "allele_idx = pd.DataFrame(allele_list, columns=['allele'])\n",
    "allele_idx.reset_index(inplace=True)"
   ]
  },
  {
   "cell_type": "code",
   "execution_count": 11,
   "metadata": {},
   "outputs": [],
   "source": [
    "from joblib import delayed,Parallel\n",
    "from os import cpu_count\n",
    "from lib.kpe import *\n",
    "\n",
    "method='pb'\n",
    "ase_mat = ase_sparse_mat.toarray()\n",
    "data = Parallel(n_jobs=cpu_count())(delayed(est_vec)(vec,method) for i,vec in enumerate(ase_mat))\n",
    "\n",
    "out_kpe_file = out_prefix + '_' + method + '.est'\n",
    "cols = ['kon','koff','ksyn','n','mean','var']\n",
    "out_index = allele_idx['allele'].tolist()\n",
    "kpe = pd.DataFrame(data,columns=cols,index=out_index)\n",
    "kpe.to_csv(out_kpe_file,float_format=\"%.5f\")\n",
    "\n",
    "ase_reform = pd.DataFrame(ase_mat, index=out_index)\n",
    "out_ase_file = out_prefix + '.ase.reform'\n",
    "ase_reform.to_csv(out_ase_file)"
   ]
  },
  {
   "cell_type": "code",
   "execution_count": 12,
   "metadata": {},
   "outputs": [],
   "source": [
    "from scipy.stats import poisson, beta, power_divergence, chi2\n",
    "from lib.evaluation import *\n",
    "\n",
    "kpe.dropna(inplace=True)\n",
    "n = kpe['n'].unique()\n",
    "\n",
    "# simulate the expression with pb\n",
    "cols = ['kon','koff','ksyn']\n",
    "simulated_cols = [ 'sim_' + x for x in cols ]\n",
    "simulated_data = Parallel(n_jobs=cpu_count())(delayed(pb_simulation)(row[cols],n) for i,row in kpe.iterrows())\n",
    "\n",
    "# re-estimate the kp from the simulated profile\n",
    "res_data = Parallel(n_jobs=cpu_count())(delayed(est_row)(row,method) for row in simulated_data)\n",
    "kpe[simulated_cols] = res_data\n",
    "\n",
    "# likelihood ratiotest\n",
    "for i, (idx, row) in enumerate(kpe.iterrows()):\n",
    "    sim_data = np.array(simulated_data[i])\n",
    "    org_data = ase_reform.loc[idx].astype(np.float32).values\n",
    "\n",
    "    sim_kp = row[simulated_cols].values\n",
    "    org_kp = row[cols].values\n",
    "\n",
    "    if np.sum(sim_data) == 0:\n",
    "        kpe.loc[idx,'chisq_pval'] = np.nan\n",
    "        kpe.loc[idx,'simlr_pval'] = np.nan\n",
    "        continue\n",
    "\n",
    "    chisq, p = GoF(sim_data, org_data)\n",
    "    simlr = simLikelihoodRatioTest(sim_kp, sim_data, org_kp, org_data)\n",
    "\n",
    "    kpe.loc[idx,'chisq_pval'] = p\n",
    "    kpe.loc[idx,'simlr_pval'] = simlr\n",
    "\n",
    "out_file = out_prefix + '.est.eval'\n",
    "kpe.to_csv(out_file)"
   ]
  },
  {
   "cell_type": "code",
   "execution_count": 13,
   "metadata": {},
   "outputs": [
    {
     "data": {
      "text/html": [
       "<div>\n",
       "<style scoped>\n",
       "    .dataframe tbody tr th:only-of-type {\n",
       "        vertical-align: middle;\n",
       "    }\n",
       "\n",
       "    .dataframe tbody tr th {\n",
       "        vertical-align: top;\n",
       "    }\n",
       "\n",
       "    .dataframe thead th {\n",
       "        text-align: right;\n",
       "    }\n",
       "</style>\n",
       "<table border=\"1\" class=\"dataframe\">\n",
       "  <thead>\n",
       "    <tr style=\"text-align: right;\">\n",
       "      <th></th>\n",
       "      <th>sim_kon</th>\n",
       "      <th>sim_koff</th>\n",
       "      <th>sim_ksyn</th>\n",
       "    </tr>\n",
       "  </thead>\n",
       "  <tbody>\n",
       "    <tr>\n",
       "      <th>ENSG00000118785-4:87982701_C</th>\n",
       "      <td>0.856409</td>\n",
       "      <td>16.949529</td>\n",
       "      <td>344.211196</td>\n",
       "    </tr>\n",
       "    <tr>\n",
       "      <th>ENSG00000118785-4:87982701_T</th>\n",
       "      <td>0.151194</td>\n",
       "      <td>1.477752</td>\n",
       "      <td>71.610083</td>\n",
       "    </tr>\n",
       "  </tbody>\n",
       "</table>\n",
       "</div>"
      ],
      "text/plain": [
       "                               sim_kon   sim_koff    sim_ksyn\n",
       "ENSG00000118785-4:87982701_C  0.856409  16.949529  344.211196\n",
       "ENSG00000118785-4:87982701_T  0.151194   1.477752   71.610083"
      ]
     },
     "execution_count": 13,
     "metadata": {},
     "output_type": "execute_result"
    }
   ],
   "source": [
    "kpe[cols].head()\n",
    "kpe[simulated_cols].head()"
   ]
  },
  {
   "cell_type": "code",
   "execution_count": 14,
   "metadata": {},
   "outputs": [
    {
     "data": {
      "image/png": "[encoded data removed]",
      "text/plain": [
       "<Figure size 432x288 with 2 Axes>"
      ]
     },
     "metadata": {},
     "output_type": "display_data"
    }
   ],
   "source": [
    "fig,ax = plt.subplots(ncols=2,sharex=True,constrained_layout=True)\n",
    "for i, (idx, row) in enumerate(kpe.iterrows()):\n",
    "    sim_data = np.array(simulated_data[i])\n",
    "    org_data = ase_reform.loc[idx].astype(np.float32).values\n",
    "\n",
    "    sim_kp = row[simulated_cols].values\n",
    "    org_kp = row[cols].values\n",
    "    ax[i].set_title(idx,loc='right')\n",
    "    ax[i].set_xlabel('UMI')\n",
    "    ax[i].set_ylabel('# cell')\n",
    "    ax[i].hist(org_data,label='org')\n",
    "    ax[i].hist(sim_data,label='sim',alpha=0.5)\n",
    "    ax[i].legend()"
   ]
  },
  {
   "cell_type": "code",
   "execution_count": 15,
   "metadata": {},
   "outputs": [],
   "source": [
    "from lib.variance import *\n",
    "# simulate the expression with pb\n",
    "cols = ['kon','koff','ksyn']\n",
    "data = Parallel(n_jobs=cpu_count())(\\\n",
    "delayed(fun)(ase_reform.loc[idx].values, row[cols].values) for idx,row in kpe.iterrows())\n",
    "\n",
    "add_cols = ['kon_mean','koff_mean', 'ksyn_mean',\\\n",
    "            'kon_lower','kon_upper','koff_lower','koff_upper','ksyn_lower','ksyn_upper']\n",
    "\n",
    "kpe[add_cols] = data\n",
    "out_file = out_prefix + '.est.var'\n",
    "kpe.to_csv(outfile,float_format=\"%.5f\")"
   ]
  },
  {
   "cell_type": "code",
   "execution_count": 16,
   "metadata": {},
   "outputs": [
    {
     "data": {
      "text/html": [
       "<div>\n",
       "<style scoped>\n",
       "    .dataframe tbody tr th:only-of-type {\n",
       "        vertical-align: middle;\n",
       "    }\n",
       "\n",
       "    .dataframe tbody tr th {\n",
       "        vertical-align: top;\n",
       "    }\n",
       "\n",
       "    .dataframe thead th {\n",
       "        text-align: right;\n",
       "    }\n",
       "</style>\n",
       "<table border=\"1\" class=\"dataframe\">\n",
       "  <thead>\n",
       "    <tr style=\"text-align: right;\">\n",
       "      <th></th>\n",
       "      <th>kon_mean</th>\n",
       "      <th>kon_lower</th>\n",
       "      <th>kon_upper</th>\n",
       "      <th>koff_mean</th>\n",
       "      <th>koff_lower</th>\n",
       "      <th>koff_upper</th>\n",
       "      <th>ksyn_mean</th>\n",
       "      <th>ksyn_lower</th>\n",
       "      <th>ksyn_upper</th>\n",
       "    </tr>\n",
       "  </thead>\n",
       "  <tbody>\n",
       "    <tr>\n",
       "      <th>ENSG00000118785-4:87982701_C</th>\n",
       "      <td>0.943941</td>\n",
       "      <td>0.889076</td>\n",
       "      <td>0.994177</td>\n",
       "      <td>50.315229</td>\n",
       "      <td>46.746848</td>\n",
       "      <td>53.947516</td>\n",
       "      <td>913.501875</td>\n",
       "      <td>850.033685</td>\n",
       "      <td>981.547825</td>\n",
       "    </tr>\n",
       "    <tr>\n",
       "      <th>ENSG00000118785-4:87982701_T</th>\n",
       "      <td>0.152366</td>\n",
       "      <td>0.137963</td>\n",
       "      <td>0.166853</td>\n",
       "      <td>1.516761</td>\n",
       "      <td>1.329099</td>\n",
       "      <td>1.725575</td>\n",
       "      <td>77.413078</td>\n",
       "      <td>70.283739</td>\n",
       "      <td>85.576504</td>\n",
       "    </tr>\n",
       "  </tbody>\n",
       "</table>\n",
       "</div>"
      ],
      "text/plain": [
       "                              kon_mean  kon_lower  kon_upper  koff_mean  \\\n",
       "ENSG00000118785-4:87982701_C  0.943941   0.889076   0.994177  50.315229   \n",
       "ENSG00000118785-4:87982701_T  0.152366   0.137963   0.166853   1.516761   \n",
       "\n",
       "                              koff_lower  koff_upper   ksyn_mean  ksyn_lower  \\\n",
       "ENSG00000118785-4:87982701_C   46.746848   53.947516  913.501875  850.033685   \n",
       "ENSG00000118785-4:87982701_T    1.329099    1.725575   77.413078   70.283739   \n",
       "\n",
       "                              ksyn_upper  \n",
       "ENSG00000118785-4:87982701_C  981.547825  \n",
       "ENSG00000118785-4:87982701_T   85.576504  "
      ]
     },
     "execution_count": 16,
     "metadata": {},
     "output_type": "execute_result"
    }
   ],
   "source": [
    "print_cols = ['kon_mean','kon_lower','kon_upper',\\\n",
    "    'koff_mean','koff_lower','koff_upper',\\\n",
    "    'ksyn_mean','ksyn_lower','ksyn_upper']\n",
    "kpe[print_cols].head()"
   ]
  },
  {
   "cell_type": "code",
   "execution_count": 19,
   "metadata": {},
   "outputs": [
    {
     "data": {
      "image/png": "[encoded data removed]",
      "text/plain": [
       "<Figure size 432x288 with 2 Axes>"
      ]
     },
     "metadata": {},
     "output_type": "display_data"
    }
   ],
   "source": [
    "fig,ax = plt.subplots(constrained_layout=True, ncols=2)\n",
    "allele = 'ENSG00000118785-4:87982701_T'\n",
    "\n",
    "y=np.arange(len(cols))\n",
    "kp_org   = ['kon','koff', 'ksyn']\n",
    "kp_mean  = ['kon_mean','koff_mean', 'ksyn_mean']\n",
    "kp_error = ['kon_lower','koff_lower','ksyn_lower','kon_upper','koff_upper','ksyn_upper',]\n",
    "\n",
    "x_org = kpe.loc[allele, kp_org].values.reshape((1,-1))\n",
    "x = kpe.loc[allele, kp_mean].values.reshape((1,-1))\n",
    "x_error = kpe.loc[allele, kp_error].values.reshape((2, -1))\n",
    "x_error_reform = abs(x_error - x)\n",
    "\n",
    "ax[0].errorbar(x.reshape(-1), y, xerr=x_error_reform,fmt='o')\n",
    "ax[0].scatter(x_org.reshape(-1), y+0.1, marker='v', color='#ff7f0e')\n",
    "ax[0].set_xlabel('kp value')\n",
    "ax[0].set_yticks(y)\n",
    "ax[0].set_yticklabels(['kon','koff','ksyn'])\n",
    "\n",
    "ax[1].errorbar(np.ones(len(cols)), y, xerr=x_error_reform/x,fmt='o')\n",
    "ax[1].scatter(x_org/x, y+0.1, marker='v', color='#ff7f0e')\n",
    "ax[1].set_xlabel('relative kp value')\n",
    "ax[1].set_yticks(y)\n",
    "ax[1].set_yticklabels(['kon','koff','ksyn'])\n",
    "\n",
    "plt.show()\n"
   ]
  },
  {
   "cell_type": "code",
   "execution_count": null,
   "metadata": {},
   "outputs": [],
   "source": []
  }
 ],
 "metadata": {
  "kernelspec": {
   "display_name": "Python 3",
   "language": "python",
   "name": "python3"
  },
  "language_info": {
   "codemirror_mode": {
    "name": "ipython",
    "version": 3
   },
   "file_extension": ".py",
   "mimetype": "text/x-python",
   "name": "python",
   "nbconvert_exporter": "python",
   "pygments_lexer": "ipython3",
   "version": "3.7.0"
  }
 },
 "nbformat": 4,
 "nbformat_minor": 2
}

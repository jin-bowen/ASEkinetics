{
 "cells": [
  {
   "cell_type": "code",
   "execution_count": 3,
   "metadata": {},
   "outputs": [],
   "source": [
    "from scipy import sparse\n",
    "import pandas as pd\n",
    "import numpy as np\n",
    "import sys"
   ]
  },
  {
   "cell_type": "code",
   "execution_count": 10,
   "metadata": {},
   "outputs": [],
   "source": [
    "from matplotlib.colors import ListedColormap\n",
    "import matplotlib.patches as mpatches\n",
    "import matplotlib.pyplot as plt\n",
    "import matplotlib as mpl\n",
    "plt.rcParams['font.size'] = 12\n",
    "plt.rcParams['axes.linewidth'] = 1"
   ]
  },
  {
   "cell_type": "code",
   "execution_count": 7,
   "metadata": {},
   "outputs": [
    {
     "name": "stderr",
     "output_type": "stream",
     "text": [
      "/home/bxj139/.usr/local/python/3.7.0/lib/python3.7/site-packages/dask/dataframe/io/csv.py:387: UserWarning: Warning gzip compression does not support breaking apart files\n",
      "Please ensure that each individual file can fit in memory and\n",
      "use the keyword ``blocksize=None to remove this message``\n",
      "Setting ``blocksize=None``\n",
      "  \"Setting ``blocksize=None``\" % compression\n"
     ]
    },
    {
     "data": {
      "text/plain": [
       "['/mnt/pan/Data14/ASEkinetics/Microglia_MO_AD4.mtx']"
      ]
     },
     "execution_count": 7,
     "metadata": {},
     "output_type": "execute_result"
    }
   ],
   "source": [
    "#import dask.dataframe as dd\n",
    "#import scipy.io\n",
    "#import csv\n",
    "#import gzip\n",
    "#import os\n",
    "#\n",
    "#matrix_dir='filtered_feature_bc_matrix'\n",
    "#mito_gene_list='mitochondrial.gene'\n",
    "#outfile='Microglia_MO_AD4'\n",
    "#\n",
    "#mito_gene = np.loadtxt(mito_gene_list, dtype='str')\n",
    "#mito_gene_df = pd.DataFrame(data=np.ones(len(mito_gene)), index=mito_gene, columns=['mito'])\n",
    "#\n",
    "#mat_path = os.path.join(matrix_dir, \"matrix.mtx.gz\")\n",
    "#mat      = dd.read_csv(mat_path, skiprows=[0,1,2], names=['igene','icb','umi'], \\\n",
    "#sep=' ', compression='gzip')\n",
    "#\n",
    "#features_path = os.path.join(matrix_dir, \"features.tsv.gz\")\n",
    "#feature_raw   = dd.read_csv(features_path,names=['gene','gene_name','type'],\\\n",
    "#sep='\\t',compression='gzip')\n",
    "#\n",
    "#feature = dd.merge(feature_raw,mito_gene_df,left_on='gene',right_index=True,how='left')\n",
    "#feature['mito'] = feature['mito'].fillna(0)\n",
    "#\n",
    "#barcodes_path = os.path.join(matrix_dir, \"barcodes.tsv.gz\")\n",
    "#barcodes      = dd.read_csv(barcodes_path,names=['cb'], sep=\"\\t\", compression='gzip')\n",
    "#\n",
    "#n_feature = feature.shape[0].compute()\n",
    "#feature['igene'] = feature.index + 1\n",
    "#df_12 = dd.merge(feature, mat, on='igene')\n",
    "#\n",
    "#n_barcode = barcodes.shape[0].compute()\n",
    "#barcodes['icb'] = barcodes.index + 1\n",
    "#df = dd.merge(df_12, barcodes, on='icb')\n",
    "#df['mito_umi'] = df['mito'] * df['umi']\n",
    "#\n",
    "#cb_stat = df.groupby('cb').agg({'igene': ['count'],\\\n",
    "#'umi':['sum'],\\\n",
    "#'mito_umi':['sum']}).compute()\n",
    "#\n",
    "#cb_stat.columns = ['num_gene','num_umi','mito_umi']\n",
    "#cb_stat['mito_percent'] = cb_stat['mito_umi'] / cb_stat['num_umi']\n",
    "#num_gene_mean = np.mean(cb_stat['num_gene'])\n",
    "#num_gene_std  = np.std(cb_stat['num_gene'])\n",
    "#num_umi_mean  = np.mean(cb_stat['num_umi'])\n",
    "#num_umi_std  = np.std(cb_stat['num_umi'])\n",
    "#\n",
    "#select1 = abs(cb_stat['num_gene'] - num_gene_mean) < num_gene_std\n",
    "#select2 = abs(cb_stat['num_umi'] - num_umi_mean) < num_umi_std\n",
    "#select3 = cb_stat['mito_percent'] < 0.2\n",
    "#cb_stat['keep'] = 0\n",
    "#cb_stat.loc[select1 & select2 & select3,'keep'] = 1\n",
    "#\n",
    "#cb_stat[['num_gene','num_umi','mito_percent','keep']].to_csv(outfile+'.qc')\n",
    "#\n",
    "## dense matrix\n",
    "#header=['cb','gene','umi']\n",
    "#df[header].to_csv('%s.mtx'%outfile,header=True,index=False,single_file = True)"
   ]
  },
  {
   "cell_type": "code",
   "execution_count": 34,
   "metadata": {},
   "outputs": [],
   "source": [
    "from lib.ase_infer import *\n",
    "umi_file = 'Microglia_MO_AD4.mtx'\n",
    "ase_file = 'ENSG00000198502.ase'\n",
    "cb_file  = 'Microglia_MO_AD4.qc'\n",
    "out_prefix  = 'Microglia_MO_AD4'\n",
    "\n",
    "umi_raw = pd.read_csv(umi_file,dtype={'cb':str,'gene':str,'umi':float})\n",
    "ase_raw = pd.read_csv(ase_file,dtype={'allele_ref':str,'ub_ref':float,'allele_alt':str,'ub_alt':float})\n",
    "ase_raw['ub_alt'] = ase_raw['ub_alt'].fillna(0)\n",
    "ase_raw['ub_ref'] = ase_raw['ub_ref'].fillna(0)\n",
    "\n",
    "# filtered cells\n",
    "cb_raw = pd.read_csv(cb_file,header=0)\n",
    "cb_keep = cb_raw.loc[cb_raw['keep']==1]\n",
    "umi = pd.merge(umi_raw, cb_keep, on='cb')\n",
    "ase = pd.merge(ase_raw, cb_keep, on='cb')\n",
    "\n",
    "out_file = '%s.ase.class'%(out_prefix)\n",
    "ase_class = allele_class(ase,save=True,outfile=out_file)\n",
    "\n",
    "ase_infer_file = '%s.ase'%(out_prefix)\n",
    "allele_infer(umi,ase,ase_class,ase_infer_file)"
   ]
  },
  {
   "cell_type": "code",
   "execution_count": 57,
   "metadata": {},
   "outputs": [
    {
     "data": {
      "text/plain": [
       "Text(0.5, 0, 'ase ratio')"
      ]
     },
     "execution_count": 57,
     "metadata": {},
     "output_type": "execute_result"
    },
    {
     "data": {
      "image/png": "[encoded data removed]",
      "text/plain": [
       "<Figure size 432x288 with 2 Axes>"
      ]
     },
     "metadata": {},
     "output_type": "display_data"
    }
   ],
   "source": [
    "ase_infer_file = 'Microglia_MO_AD4.ase.infer'\n",
    "ase_infer = pd.read_csv(ase_infer_file,header=0)\n",
    "fig,ax = plt.subplots(ncols=2,sharex=True,constrained_layout=True)\n",
    "ax[0].hist(ase['ub_ref'].round(5),density=True)\n",
    "ax[0].set_title('ase',loc='right')\n",
    "ax[0].set_xlabel('ase ratio')\n",
    "ax[1].hist(ase_infer['ub_ref'].round(5),density=True)\n",
    "ax[1].set_title('ase_infer',loc='right')\n",
    "ax[1].set_xlabel('ase ratio')"
   ]
  },
  {
   "cell_type": "code",
   "execution_count": 36,
   "metadata": {},
   "outputs": [],
   "source": [
    "from lib.ase_reform import *\n",
    "\n",
    "ase_sparse_mat, allele_list, cb_list = process(ase_infer)\n",
    "\n",
    "cb_idx = pd.DataFrame(cb_list, columns=['cb'])\n",
    "cb_idx.reset_index(inplace=True)\n",
    "allele_idx = pd.DataFrame(allele_list, columns=['allele'])\n",
    "allele_idx.reset_index(inplace=True)"
   ]
  },
  {
   "cell_type": "code",
   "execution_count": 42,
   "metadata": {},
   "outputs": [],
   "source": [
    "from joblib import delayed,Parallel\n",
    "from os import cpu_count\n",
    "from lib.kpe import *\n",
    "\n",
    "method='pb'\n",
    "ase_mat = ase_sparse_mat.toarray()\n",
    "data = Parallel(n_jobs=cpu_count())(delayed(est_vec)(vec,method) for i,vec in enumerate(ase_mat))\n",
    "\n",
    "out_kpe_file = out_prefix + '_' + method + '.est'\n",
    "cols = ['kon','koff','ksyn','n','mean','var']\n",
    "out_index = allele_idx['allele'].tolist()\n",
    "kpe = pd.DataFrame(data,columns=cols,index=out_index)\n",
    "kpe.to_csv(out_kpe_file,float_format=\"%.5f\")\n",
    "\n",
    "ase_reform = pd.DataFrame(ase_mat, index=out_index)\n",
    "out_ase_file = out_prefix + '.ase.reform'\n",
    "ase_reform.to_csv(out_ase_file)"
   ]
  },
  {
   "cell_type": "code",
   "execution_count": 43,
   "metadata": {},
   "outputs": [
    {
     "name": "stdout",
     "output_type": "stream",
     "text": [
      "                                   kon        koff        ksyn     n  \\\n",
      "ENSG00000198502-6:32519479_G  3.106078  529.979225  401.712844  1875   \n",
      "ENSG00000198502-6:32519479_A  0.199839    1.526860    8.315244  1875   \n",
      "\n",
      "                                  mean       var  \n",
      "ENSG00000198502-6:32519479_G  2.341333  5.252026  \n",
      "ENSG00000198502-6:32519479_A  0.962667  3.543140  \n",
      "                              0     1     2     3     4     5     6     7     \\\n",
      "ENSG00000198502-6:32519479_G   1.0   8.0   1.0   1.0   3.0   5.0   3.0   1.0   \n",
      "ENSG00000198502-6:32519479_A   1.0   0.0   2.0   1.0   0.0   0.0   0.0   4.0   \n",
      "\n",
      "                              8     9     ...  1865  1866  1867  1868  1869  \\\n",
      "ENSG00000198502-6:32519479_G   3.0   3.0  ...   1.0   1.0   1.0   1.0   2.0   \n",
      "ENSG00000198502-6:32519479_A   0.0   0.0  ...   1.0   2.0   0.0   1.0   0.0   \n",
      "\n",
      "                              1870  1871  1872  1873  1874  \n",
      "ENSG00000198502-6:32519479_G   3.0   2.0   1.0   2.0   1.0  \n",
      "ENSG00000198502-6:32519479_A   0.0   0.0   0.0   0.0   0.0  \n",
      "\n",
      "[2 rows x 1875 columns]\n"
     ]
    }
   ],
   "source": [
    "print(kpe)\n",
    "print(ase_reform)"
   ]
  },
  {
   "cell_type": "code",
   "execution_count": 44,
   "metadata": {},
   "outputs": [],
   "source": [
    "from scipy.stats import poisson, beta, power_divergence, chi2\n",
    "from lib.evaluation import *\n",
    "\n",
    "kpe.dropna(inplace=True)\n",
    "n = kpe['n'].unique()\n",
    "\n",
    "# simulate the expression with pb\n",
    "cols = ['kon','koff','ksyn']\n",
    "simulated_cols = [ 'sim_' + x for x in cols ]\n",
    "simulated_data = Parallel(n_jobs=cpu_count())(delayed(pb_simulation)(row[cols],n) for i,row in kpe.iterrows())\n",
    "\n",
    "# re-estimate the kp from the simulated profile\n",
    "res_data = Parallel(n_jobs=cpu_count())(delayed(est_row)(row,method) for row in simulated_data)\n",
    "kpe[simulated_cols] = res_data\n",
    "\n",
    "# likelihood ratiotest\n",
    "for i, (idx, row) in enumerate(kpe.iterrows()):\n",
    "    sim_data = np.array(simulated_data[i])\n",
    "    org_data = ase_reform.loc[idx].astype(np.float32).values\n",
    "\n",
    "    sim_kp = row[simulated_cols].values\n",
    "    org_kp = row[cols].values\n",
    "\n",
    "    if np.sum(sim_data) == 0:\n",
    "        kpe.loc[idx,'chisq_pval'] = np.nan\n",
    "        kpe.loc[idx,'simlr_pval'] = np.nan\n",
    "        continue\n",
    "\n",
    "    chisq, p = GoF(sim_data, org_data)\n",
    "    simlr = simLikelihoodRatioTest(sim_kp, sim_data, org_kp, org_data)\n",
    "\n",
    "    kpe.loc[idx,'chisq_pval'] = p\n",
    "    kpe.loc[idx,'simlr_pval'] = simlr\n",
    "\n",
    "out_file = out_prefix + '.est.eval'\n",
    "kpe.to_csv(out_file)"
   ]
  },
  {
   "cell_type": "code",
   "execution_count": 55,
   "metadata": {},
   "outputs": [
    {
     "name": "stdout",
     "output_type": "stream",
     "text": [
      "                                   kon        koff        ksyn     n  \\\n",
      "ENSG00000198502-6:32519479_G  3.106078  529.979225  401.712844  1875   \n",
      "ENSG00000198502-6:32519479_A  0.199839    1.526860    8.315244  1875   \n",
      "\n",
      "                                  mean       var   sim_kon    sim_koff  \\\n",
      "ENSG00000198502-6:32519479_G  2.341333  5.252026  3.210200  335.850096   \n",
      "ENSG00000198502-6:32519479_A  0.962667  3.543140  0.205641    1.960461   \n",
      "\n",
      "                                sim_ksyn  chisq_pval  simlr_pval  \n",
      "ENSG00000198502-6:32519479_G  244.144831    0.284268    0.677109  \n",
      "ENSG00000198502-6:32519479_A    9.776283    0.938402    0.604405  \n"
     ]
    },
    {
     "data": {
      "image/png": "[encoded data removed]",
      "text/plain": [
       "<Figure size 432x288 with 2 Axes>"
      ]
     },
     "metadata": {},
     "output_type": "display_data"
    }
   ],
   "source": [
    "print(kpe)\n",
    "fig,ax = plt.subplots(ncols=2,sharex=True,constrained_layout=True)\n",
    "for i, (idx, row) in enumerate(kpe.iterrows()):\n",
    "    sim_data = np.array(simulated_data[i])\n",
    "    org_data = ase_reform.loc[idx].astype(np.float32).values\n",
    "\n",
    "    sim_kp = row[simulated_cols].values\n",
    "    org_kp = row[cols].values\n",
    "    ax[i].set_title(idx,loc='right')\n",
    "    ax[i].set_xlabel('UMI')\n",
    "    ax[i].hist(org_data,density=True,label='org')\n",
    "    ax[i].hist(sim_data,density=True,label='sim')\n",
    "    ax[i].legend()"
   ]
  },
  {
   "cell_type": "code",
   "execution_count": 58,
   "metadata": {},
   "outputs": [
    {
     "ename": "KeyboardInterrupt",
     "evalue": "",
     "output_type": "error",
     "traceback": [
      "\u001b[0;31m---------------------------------------------------------------------------\u001b[0m",
      "\u001b[0;31mKeyboardInterrupt\u001b[0m                         Traceback (most recent call last)",
      "\u001b[0;32m<ipython-input-58-402b4bc2ed2f>\u001b[0m in \u001b[0;36m<module>\u001b[0;34m()\u001b[0m\n\u001b[1;32m      2\u001b[0m \u001b[0;31m# simulate the expression with pb\u001b[0m\u001b[0;34m\u001b[0m\u001b[0;34m\u001b[0m\u001b[0m\n\u001b[1;32m      3\u001b[0m \u001b[0mcols\u001b[0m \u001b[0;34m=\u001b[0m \u001b[0;34m[\u001b[0m\u001b[0;34m'kon'\u001b[0m\u001b[0;34m,\u001b[0m\u001b[0;34m'koff'\u001b[0m\u001b[0;34m,\u001b[0m\u001b[0;34m'ksyn'\u001b[0m\u001b[0;34m]\u001b[0m\u001b[0;34m\u001b[0m\u001b[0m\n\u001b[0;32m----> 4\u001b[0;31m \u001b[0mdata\u001b[0m \u001b[0;34m=\u001b[0m \u001b[0mParallel\u001b[0m\u001b[0;34m(\u001b[0m\u001b[0mn_jobs\u001b[0m\u001b[0;34m=\u001b[0m\u001b[0mcpu_count\u001b[0m\u001b[0;34m(\u001b[0m\u001b[0;34m)\u001b[0m\u001b[0;34m)\u001b[0m\u001b[0;34m(\u001b[0m\u001b[0mdelayed\u001b[0m\u001b[0;34m(\u001b[0m\u001b[0mfun\u001b[0m\u001b[0;34m)\u001b[0m\u001b[0;34m(\u001b[0m\u001b[0mase_reform\u001b[0m\u001b[0;34m.\u001b[0m\u001b[0mloc\u001b[0m\u001b[0;34m[\u001b[0m\u001b[0midx\u001b[0m\u001b[0;34m]\u001b[0m\u001b[0;34m.\u001b[0m\u001b[0mvalues\u001b[0m\u001b[0;34m,\u001b[0m \u001b[0mrow\u001b[0m\u001b[0;34m[\u001b[0m\u001b[0mcols\u001b[0m\u001b[0;34m]\u001b[0m\u001b[0;34m.\u001b[0m\u001b[0mvalues\u001b[0m\u001b[0;34m)\u001b[0m \u001b[0;32mfor\u001b[0m \u001b[0midx\u001b[0m\u001b[0;34m,\u001b[0m\u001b[0mrow\u001b[0m \u001b[0;32min\u001b[0m \u001b[0mkpe\u001b[0m\u001b[0;34m.\u001b[0m\u001b[0miterrows\u001b[0m\u001b[0;34m(\u001b[0m\u001b[0;34m)\u001b[0m\u001b[0;34m)\u001b[0m\u001b[0;34m\u001b[0m\u001b[0m\n\u001b[0m\u001b[1;32m      5\u001b[0m \u001b[0;34m\u001b[0m\u001b[0m\n\u001b[1;32m      6\u001b[0m \u001b[0madd_cols\u001b[0m \u001b[0;34m=\u001b[0m \u001b[0;34m[\u001b[0m\u001b[0;34m'kon_mean'\u001b[0m\u001b[0;34m,\u001b[0m\u001b[0;34m'koff_mean'\u001b[0m\u001b[0;34m,\u001b[0m\u001b[0;34m'ksyn_mean'\u001b[0m\u001b[0;34m,\u001b[0m\u001b[0;34m'kon_low'\u001b[0m\u001b[0;34m,\u001b[0m\u001b[0;34m'kon_upper'\u001b[0m\u001b[0;34m,\u001b[0m\u001b[0;34m'koff_low'\u001b[0m\u001b[0;34m,\u001b[0m\u001b[0;34m'koff_upper'\u001b[0m\u001b[0;34m,\u001b[0m\u001b[0;34m'ksyn_low'\u001b[0m\u001b[0;34m,\u001b[0m\u001b[0;34m'ksyn_upper'\u001b[0m\u001b[0;34m]\u001b[0m\u001b[0;34m\u001b[0m\u001b[0m\n",
      "\u001b[0;32m~/.usr/local/python/3.7.0/lib/python3.7/site-packages/joblib/parallel.py\u001b[0m in \u001b[0;36m__call__\u001b[0;34m(self, iterable)\u001b[0m\n\u001b[1;32m   1015\u001b[0m \u001b[0;34m\u001b[0m\u001b[0m\n\u001b[1;32m   1016\u001b[0m             \u001b[0;32mwith\u001b[0m \u001b[0mself\u001b[0m\u001b[0;34m.\u001b[0m\u001b[0m_backend\u001b[0m\u001b[0;34m.\u001b[0m\u001b[0mretrieval_context\u001b[0m\u001b[0;34m(\u001b[0m\u001b[0;34m)\u001b[0m\u001b[0;34m:\u001b[0m\u001b[0;34m\u001b[0m\u001b[0m\n\u001b[0;32m-> 1017\u001b[0;31m                 \u001b[0mself\u001b[0m\u001b[0;34m.\u001b[0m\u001b[0mretrieve\u001b[0m\u001b[0;34m(\u001b[0m\u001b[0;34m)\u001b[0m\u001b[0;34m\u001b[0m\u001b[0m\n\u001b[0m\u001b[1;32m   1018\u001b[0m             \u001b[0;31m# Make sure that we get a last message telling us we are done\u001b[0m\u001b[0;34m\u001b[0m\u001b[0;34m\u001b[0m\u001b[0m\n\u001b[1;32m   1019\u001b[0m             \u001b[0melapsed_time\u001b[0m \u001b[0;34m=\u001b[0m \u001b[0mtime\u001b[0m\u001b[0;34m.\u001b[0m\u001b[0mtime\u001b[0m\u001b[0;34m(\u001b[0m\u001b[0;34m)\u001b[0m \u001b[0;34m-\u001b[0m \u001b[0mself\u001b[0m\u001b[0;34m.\u001b[0m\u001b[0m_start_time\u001b[0m\u001b[0;34m\u001b[0m\u001b[0m\n",
      "\u001b[0;32m~/.usr/local/python/3.7.0/lib/python3.7/site-packages/joblib/parallel.py\u001b[0m in \u001b[0;36mretrieve\u001b[0;34m(self)\u001b[0m\n\u001b[1;32m    907\u001b[0m             \u001b[0;32mtry\u001b[0m\u001b[0;34m:\u001b[0m\u001b[0;34m\u001b[0m\u001b[0m\n\u001b[1;32m    908\u001b[0m                 \u001b[0;32mif\u001b[0m \u001b[0mgetattr\u001b[0m\u001b[0;34m(\u001b[0m\u001b[0mself\u001b[0m\u001b[0;34m.\u001b[0m\u001b[0m_backend\u001b[0m\u001b[0;34m,\u001b[0m \u001b[0;34m'supports_timeout'\u001b[0m\u001b[0;34m,\u001b[0m \u001b[0;32mFalse\u001b[0m\u001b[0;34m)\u001b[0m\u001b[0;34m:\u001b[0m\u001b[0;34m\u001b[0m\u001b[0m\n\u001b[0;32m--> 909\u001b[0;31m                     \u001b[0mself\u001b[0m\u001b[0;34m.\u001b[0m\u001b[0m_output\u001b[0m\u001b[0;34m.\u001b[0m\u001b[0mextend\u001b[0m\u001b[0;34m(\u001b[0m\u001b[0mjob\u001b[0m\u001b[0;34m.\u001b[0m\u001b[0mget\u001b[0m\u001b[0;34m(\u001b[0m\u001b[0mtimeout\u001b[0m\u001b[0;34m=\u001b[0m\u001b[0mself\u001b[0m\u001b[0;34m.\u001b[0m\u001b[0mtimeout\u001b[0m\u001b[0;34m)\u001b[0m\u001b[0;34m)\u001b[0m\u001b[0;34m\u001b[0m\u001b[0m\n\u001b[0m\u001b[1;32m    910\u001b[0m                 \u001b[0;32melse\u001b[0m\u001b[0;34m:\u001b[0m\u001b[0;34m\u001b[0m\u001b[0m\n\u001b[1;32m    911\u001b[0m                     \u001b[0mself\u001b[0m\u001b[0;34m.\u001b[0m\u001b[0m_output\u001b[0m\u001b[0;34m.\u001b[0m\u001b[0mextend\u001b[0m\u001b[0;34m(\u001b[0m\u001b[0mjob\u001b[0m\u001b[0;34m.\u001b[0m\u001b[0mget\u001b[0m\u001b[0;34m(\u001b[0m\u001b[0;34m)\u001b[0m\u001b[0;34m)\u001b[0m\u001b[0;34m\u001b[0m\u001b[0m\n",
      "\u001b[0;32m~/.usr/local/python/3.7.0/lib/python3.7/site-packages/joblib/_parallel_backends.py\u001b[0m in \u001b[0;36mwrap_future_result\u001b[0;34m(future, timeout)\u001b[0m\n\u001b[1;32m    560\u001b[0m         AsyncResults.get from multiprocessing.\"\"\"\n\u001b[1;32m    561\u001b[0m         \u001b[0;32mtry\u001b[0m\u001b[0;34m:\u001b[0m\u001b[0;34m\u001b[0m\u001b[0m\n\u001b[0;32m--> 562\u001b[0;31m             \u001b[0;32mreturn\u001b[0m \u001b[0mfuture\u001b[0m\u001b[0;34m.\u001b[0m\u001b[0mresult\u001b[0m\u001b[0;34m(\u001b[0m\u001b[0mtimeout\u001b[0m\u001b[0;34m=\u001b[0m\u001b[0mtimeout\u001b[0m\u001b[0;34m)\u001b[0m\u001b[0;34m\u001b[0m\u001b[0m\n\u001b[0m\u001b[1;32m    563\u001b[0m         \u001b[0;32mexcept\u001b[0m \u001b[0mLokyTimeoutError\u001b[0m\u001b[0;34m:\u001b[0m\u001b[0;34m\u001b[0m\u001b[0m\n\u001b[1;32m    564\u001b[0m             \u001b[0;32mraise\u001b[0m \u001b[0mTimeoutError\u001b[0m\u001b[0;34m(\u001b[0m\u001b[0;34m)\u001b[0m\u001b[0;34m\u001b[0m\u001b[0m\n",
      "\u001b[0;32m/usr/local/gcc-6_3_0/openmpi-2_0_1/python/3.7.0/lib/python3.7/concurrent/futures/_base.py\u001b[0m in \u001b[0;36mresult\u001b[0;34m(self, timeout)\u001b[0m\n\u001b[1;32m    425\u001b[0m                 \u001b[0;32mreturn\u001b[0m \u001b[0mself\u001b[0m\u001b[0;34m.\u001b[0m\u001b[0m__get_result\u001b[0m\u001b[0;34m(\u001b[0m\u001b[0;34m)\u001b[0m\u001b[0;34m\u001b[0m\u001b[0m\n\u001b[1;32m    426\u001b[0m \u001b[0;34m\u001b[0m\u001b[0m\n\u001b[0;32m--> 427\u001b[0;31m             \u001b[0mself\u001b[0m\u001b[0;34m.\u001b[0m\u001b[0m_condition\u001b[0m\u001b[0;34m.\u001b[0m\u001b[0mwait\u001b[0m\u001b[0;34m(\u001b[0m\u001b[0mtimeout\u001b[0m\u001b[0;34m)\u001b[0m\u001b[0;34m\u001b[0m\u001b[0m\n\u001b[0m\u001b[1;32m    428\u001b[0m \u001b[0;34m\u001b[0m\u001b[0m\n\u001b[1;32m    429\u001b[0m             \u001b[0;32mif\u001b[0m \u001b[0mself\u001b[0m\u001b[0;34m.\u001b[0m\u001b[0m_state\u001b[0m \u001b[0;32min\u001b[0m \u001b[0;34m[\u001b[0m\u001b[0mCANCELLED\u001b[0m\u001b[0;34m,\u001b[0m \u001b[0mCANCELLED_AND_NOTIFIED\u001b[0m\u001b[0;34m]\u001b[0m\u001b[0;34m:\u001b[0m\u001b[0;34m\u001b[0m\u001b[0m\n",
      "\u001b[0;32m/usr/local/gcc-6_3_0/openmpi-2_0_1/python/3.7.0/lib/python3.7/threading.py\u001b[0m in \u001b[0;36mwait\u001b[0;34m(self, timeout)\u001b[0m\n\u001b[1;32m    294\u001b[0m         \u001b[0;32mtry\u001b[0m\u001b[0;34m:\u001b[0m    \u001b[0;31m# restore state no matter what (e.g., KeyboardInterrupt)\u001b[0m\u001b[0;34m\u001b[0m\u001b[0m\n\u001b[1;32m    295\u001b[0m             \u001b[0;32mif\u001b[0m \u001b[0mtimeout\u001b[0m \u001b[0;32mis\u001b[0m \u001b[0;32mNone\u001b[0m\u001b[0;34m:\u001b[0m\u001b[0;34m\u001b[0m\u001b[0m\n\u001b[0;32m--> 296\u001b[0;31m                 \u001b[0mwaiter\u001b[0m\u001b[0;34m.\u001b[0m\u001b[0macquire\u001b[0m\u001b[0;34m(\u001b[0m\u001b[0;34m)\u001b[0m\u001b[0;34m\u001b[0m\u001b[0m\n\u001b[0m\u001b[1;32m    297\u001b[0m                 \u001b[0mgotit\u001b[0m \u001b[0;34m=\u001b[0m \u001b[0;32mTrue\u001b[0m\u001b[0;34m\u001b[0m\u001b[0m\n\u001b[1;32m    298\u001b[0m             \u001b[0;32melse\u001b[0m\u001b[0;34m:\u001b[0m\u001b[0;34m\u001b[0m\u001b[0m\n",
      "\u001b[0;31mKeyboardInterrupt\u001b[0m: "
     ]
    }
   ],
   "source": [
    "from lib.variance import *\n",
    "# simulate the expression with pb\n",
    "cols = ['kon','koff','ksyn']\n",
    "data = Parallel(n_jobs=cpu_count())(\\\n",
    "delayed(fun)(ase_reform.loc[idx].values, row[cols].values) for idx,row in kpe.iterrows())\n",
    "\n",
    "add_cols = ['kon_mean','koff_mean','ksyn_mean',\\\n",
    "'kon_low','kon_upper',\\\n",
    "'koff_low','koff_upper',\\\n",
    "'ksyn_low','ksyn_upper']\n",
    "\n",
    "kpe[add_cols] = data\n",
    "out_file = out_prefix + '.est.var'\n",
    "kpe.to_csv(outfile,float_format=\"%.5f\")\n"
   ]
  },
  {
   "cell_type": "code",
   "execution_count": null,
   "metadata": {},
   "outputs": [],
   "source": [
    "print(kpe)"
   ]
  },
  {
   "cell_type": "code",
   "execution_count": null,
   "metadata": {},
   "outputs": [],
   "source": []
  }
 ],
 "metadata": {
  "kernelspec": {
   "display_name": "Python 3",
   "language": "python",
   "name": "python3"
  },
  "language_info": {
   "codemirror_mode": {
    "name": "ipython",
    "version": 3
   },
   "file_extension": ".py",
   "mimetype": "text/x-python",
   "name": "python",
   "nbconvert_exporter": "python",
   "pygments_lexer": "ipython3",
   "version": "3.7.0"
  }
 },
 "nbformat": 4,
 "nbformat_minor": 2
}

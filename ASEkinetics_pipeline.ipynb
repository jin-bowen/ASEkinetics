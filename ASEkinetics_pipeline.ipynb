{
 "cells": [
  {
   "cell_type": "code",
   "execution_count": 1,
   "metadata": {},
   "outputs": [],
   "source": [
    "from scipy import sparse, stats\n",
    "from IPython.display import display, HTML\n",
    "import pandas as pd\n",
    "import numpy as np\n",
    "import sys\n",
    "import scipy.io\n",
    "import csv\n",
    "import gzip\n",
    "import os"
   ]
  },
  {
   "cell_type": "code",
   "execution_count": 2,
   "metadata": {},
   "outputs": [],
   "source": [
    "from matplotlib.colors import ListedColormap\n",
    "import matplotlib.patches as mpatches\n",
    "import matplotlib.pyplot as plt\n",
    "import matplotlib as mpl\n",
    "plt.rcParams['font.size'] = 16\n",
    "plt.rcParams['axes.linewidth'] = 2"
   ]
  },
  {
   "cell_type": "code",
   "execution_count": 3,
   "metadata": {},
   "outputs": [],
   "source": [
    "cb_file='./example/NA12878.qc'\n",
    "cb_stat = pd.read_csv(cb_file,header=0)\n",
    "cb_keep = cb_stat.loc[cb_stat['keep']==1,'cb']"
   ]
  },
  {
   "cell_type": "code",
   "execution_count": 4,
   "metadata": {},
   "outputs": [
    {
     "data": {
      "text/plain": [
       "Text(0.5, 0, '# UMI')"
      ]
     },
     "execution_count": 4,
     "metadata": {},
     "output_type": "execute_result"
    },
    {
     "data": {
      "image/png": "[encoded data removed]",
      "text/plain": [
       "<Figure size 432x288 with 2 Axes>"
      ]
     },
     "metadata": {
      "needs_background": "light"
     },
     "output_type": "display_data"
    },
    {
     "data": {
      "image/png": "[encoded data removed]",
      "text/plain": [
       "<Figure size 432x288 with 2 Axes>"
      ]
     },
     "metadata": {
      "needs_background": "light"
     },
     "output_type": "display_data"
    }
   ],
   "source": [
    "fig,ax = plt.subplots(ncols=2, sharex=True, sharey=True)\n",
    "ax[0].set_ylabel('# cell')\n",
    "ax[0].hist(cb_stat['num_gene'])\n",
    "ax[0].set_title('raw')\n",
    "ax[0].set_xlabel('# gene')\n",
    "ax[1].hist(cb_stat.loc[cb_stat['keep']==1,'num_gene'])\n",
    "ax[1].set_title('after filtering')\n",
    "ax[1].set_xlabel('# gene')\n",
    "\n",
    "fig,ax = plt.subplots(ncols=2, sharex=True, sharey=True)\n",
    "ax[0].set_ylabel('# cell')\n",
    "ax[0].hist(cb_stat['num_umi'])\n",
    "ax[0].set_title('raw')\n",
    "ax[0].set_xlabel('# UMI')\n",
    "ax[1].hist(cb_stat.loc[cb_stat['keep']==1,'num_umi'])\n",
    "ax[1].set_title('after filtering')\n",
    "ax[1].set_xlabel('# UMI')"
   ]
  },
  {
   "cell_type": "code",
   "execution_count": 14,
   "metadata": {},
   "outputs": [
    {
     "data": {
      "text/html": [
       "<div>\n",
       "<style scoped>\n",
       "    .dataframe tbody tr th:only-of-type {\n",
       "        vertical-align: middle;\n",
       "    }\n",
       "\n",
       "    .dataframe tbody tr th {\n",
       "        vertical-align: top;\n",
       "    }\n",
       "\n",
       "    .dataframe thead th {\n",
       "        text-align: right;\n",
       "    }\n",
       "</style>\n",
       "<table border=\"1\" class=\"dataframe\">\n",
       "  <thead>\n",
       "    <tr style=\"text-align: right;\">\n",
       "      <th></th>\n",
       "      <th>cb</th>\n",
       "      <th>gene</th>\n",
       "      <th>ub_H1</th>\n",
       "      <th>ub_H2</th>\n",
       "      <th>umi</th>\n",
       "    </tr>\n",
       "  </thead>\n",
       "  <tbody>\n",
       "    <tr>\n",
       "      <th>0</th>\n",
       "      <td>ACAGCTACATGGTTGT-1</td>\n",
       "      <td>ENSG00000196735</td>\n",
       "      <td>1</td>\n",
       "      <td>0</td>\n",
       "      <td>3</td>\n",
       "    </tr>\n",
       "    <tr>\n",
       "      <th>1</th>\n",
       "      <td>CAGCCGATCCAGATCA-1</td>\n",
       "      <td>ENSG00000196735</td>\n",
       "      <td>1</td>\n",
       "      <td>0</td>\n",
       "      <td>5</td>\n",
       "    </tr>\n",
       "    <tr>\n",
       "      <th>2</th>\n",
       "      <td>CCGTTCATCTCCTATA-1</td>\n",
       "      <td>ENSG00000196735</td>\n",
       "      <td>1</td>\n",
       "      <td>0</td>\n",
       "      <td>1</td>\n",
       "    </tr>\n",
       "    <tr>\n",
       "      <th>3</th>\n",
       "      <td>CTCGGGAAGGGTTTCT-1</td>\n",
       "      <td>ENSG00000196735</td>\n",
       "      <td>2</td>\n",
       "      <td>0</td>\n",
       "      <td>11</td>\n",
       "    </tr>\n",
       "    <tr>\n",
       "      <th>4</th>\n",
       "      <td>TTGCCGTTCAGCGACC-1</td>\n",
       "      <td>ENSG00000196735</td>\n",
       "      <td>1</td>\n",
       "      <td>0</td>\n",
       "      <td>8</td>\n",
       "    </tr>\n",
       "  </tbody>\n",
       "</table>\n",
       "</div>"
      ],
      "text/plain": [
       "                   cb             gene  ub_H1  ub_H2  umi\n",
       "0  ACAGCTACATGGTTGT-1  ENSG00000196735      1      0    3\n",
       "1  CAGCCGATCCAGATCA-1  ENSG00000196735      1      0    5\n",
       "2  CCGTTCATCTCCTATA-1  ENSG00000196735      1      0    1\n",
       "3  CTCGGGAAGGGTTTCT-1  ENSG00000196735      2      0   11\n",
       "4  TTGCCGTTCAGCGACC-1  ENSG00000196735      1      0    8"
      ]
     },
     "metadata": {},
     "output_type": "display_data"
    }
   ],
   "source": [
    "import warnings\n",
    "warnings.filterwarnings('ignore')\n",
    "from lib.ase_bn import *\n",
    "umi_file='./example/test.mtx'\n",
    "ase_file='./example/test.ase'\n",
    "\n",
    "umi_raw = pd.read_csv(umi_file)\n",
    "ase_raw = pd.read_csv(ase_file)\n",
    "\n",
    "# filtered cells\n",
    "cb_keep = cb_stat.loc[cb_stat['keep']==1]\n",
    "umi = pd.merge(umi_raw, cb_keep, on='cb')\n",
    "ase = pd.merge(ase_raw, cb_keep, on='cb')\n",
    "\n",
    "ase_infer_outfile = './example/test.ase'\n",
    "allele_infer(umi,ase,ase_infer_outfile,min_reads=1)\n",
    "\n",
    "display(pd.merge(umi,ase, on=['cb','gene'])[['cb','gene','ub_H1','ub_H2', 'umi']].head(5))"
   ]
  },
  {
   "cell_type": "code",
   "execution_count": 15,
   "metadata": {},
   "outputs": [
    {
     "data": {
      "text/html": [
       "<div>\n",
       "<style scoped>\n",
       "    .dataframe tbody tr th:only-of-type {\n",
       "        vertical-align: middle;\n",
       "    }\n",
       "\n",
       "    .dataframe tbody tr th {\n",
       "        vertical-align: top;\n",
       "    }\n",
       "\n",
       "    .dataframe thead th {\n",
       "        text-align: right;\n",
       "    }\n",
       "</style>\n",
       "<table border=\"1\" class=\"dataframe\">\n",
       "  <thead>\n",
       "    <tr style=\"text-align: right;\">\n",
       "      <th></th>\n",
       "      <th>gene</th>\n",
       "      <th>nref</th>\n",
       "      <th>nall</th>\n",
       "      <th>percent</th>\n",
       "      <th>a_hat</th>\n",
       "      <th>Ia_lb</th>\n",
       "      <th>Ia_ub</th>\n",
       "      <th>b_hat</th>\n",
       "      <th>Ib_lb</th>\n",
       "      <th>Ib_ub</th>\n",
       "    </tr>\n",
       "  </thead>\n",
       "  <tbody>\n",
       "    <tr>\n",
       "      <th>0</th>\n",
       "      <td>ENSG00000196735</td>\n",
       "      <td>3309</td>\n",
       "      <td>5374</td>\n",
       "      <td>0.615742</td>\n",
       "      <td>0.722689</td>\n",
       "      <td>0.618249</td>\n",
       "      <td>0.82713</td>\n",
       "      <td>0.062451</td>\n",
       "      <td>0.054068</td>\n",
       "      <td>0.070835</td>\n",
       "    </tr>\n",
       "  </tbody>\n",
       "</table>\n",
       "</div>"
      ],
      "text/plain": [
       "              gene  nref  nall   percent     a_hat     Ia_lb    Ia_ub  \\\n",
       "0  ENSG00000196735  3309  5374  0.615742  0.722689  0.618249  0.82713   \n",
       "\n",
       "      b_hat     Ib_lb     Ib_ub  \n",
       "0  0.062451  0.054068  0.070835  "
      ]
     },
     "metadata": {},
     "output_type": "display_data"
    },
    {
     "data": {
      "text/html": [
       "<div>\n",
       "<style scoped>\n",
       "    .dataframe tbody tr th:only-of-type {\n",
       "        vertical-align: middle;\n",
       "    }\n",
       "\n",
       "    .dataframe tbody tr th {\n",
       "        vertical-align: top;\n",
       "    }\n",
       "\n",
       "    .dataframe thead th {\n",
       "        text-align: right;\n",
       "    }\n",
       "</style>\n",
       "<table border=\"1\" class=\"dataframe\">\n",
       "  <thead>\n",
       "    <tr style=\"text-align: right;\">\n",
       "      <th></th>\n",
       "      <th>cb</th>\n",
       "      <th>gene</th>\n",
       "      <th>H1_infer</th>\n",
       "      <th>H2_infer</th>\n",
       "      <th>umi</th>\n",
       "    </tr>\n",
       "  </thead>\n",
       "  <tbody>\n",
       "    <tr>\n",
       "      <th>0</th>\n",
       "      <td>CCTTCGAAGGCATTGG-1</td>\n",
       "      <td>ENSG00000196735</td>\n",
       "      <td>2.0</td>\n",
       "      <td>0.0</td>\n",
       "      <td>2</td>\n",
       "    </tr>\n",
       "    <tr>\n",
       "      <th>1</th>\n",
       "      <td>CTACCCAGTCCGAGTC-1</td>\n",
       "      <td>ENSG00000196735</td>\n",
       "      <td>1.0</td>\n",
       "      <td>0.0</td>\n",
       "      <td>1</td>\n",
       "    </tr>\n",
       "    <tr>\n",
       "      <th>2</th>\n",
       "      <td>GCGCAACCAACGATCT-1</td>\n",
       "      <td>ENSG00000196735</td>\n",
       "      <td>2.0</td>\n",
       "      <td>0.0</td>\n",
       "      <td>2</td>\n",
       "    </tr>\n",
       "    <tr>\n",
       "      <th>3</th>\n",
       "      <td>TCGCGTTTCTAGAGTC-1</td>\n",
       "      <td>ENSG00000196735</td>\n",
       "      <td>1.0</td>\n",
       "      <td>0.0</td>\n",
       "      <td>1</td>\n",
       "    </tr>\n",
       "    <tr>\n",
       "      <th>4</th>\n",
       "      <td>AACCGCGAGACAGGCT-1</td>\n",
       "      <td>ENSG00000196735</td>\n",
       "      <td>6.0</td>\n",
       "      <td>4.0</td>\n",
       "      <td>10</td>\n",
       "    </tr>\n",
       "  </tbody>\n",
       "</table>\n",
       "</div>"
      ],
      "text/plain": [
       "                   cb             gene  H1_infer  H2_infer  umi\n",
       "0  CCTTCGAAGGCATTGG-1  ENSG00000196735       2.0       0.0    2\n",
       "1  CTACCCAGTCCGAGTC-1  ENSG00000196735       1.0       0.0    1\n",
       "2  GCGCAACCAACGATCT-1  ENSG00000196735       2.0       0.0    2\n",
       "3  TCGCGTTTCTAGAGTC-1  ENSG00000196735       1.0       0.0    1\n",
       "4  AACCGCGAGACAGGCT-1  ENSG00000196735       6.0       4.0   10"
      ]
     },
     "metadata": {},
     "output_type": "display_data"
    }
   ],
   "source": [
    "ase_infer = pd.read_csv(ase_infer_outfile+'.infer',header=0)\n",
    "ase_stat  = pd.read_csv(ase_infer_outfile+'.record',header=0)\n",
    "\n",
    "display(ase_stat.head(5))\n",
    "display(ase_infer.head(5))"
   ]
  },
  {
   "cell_type": "code",
   "execution_count": 16,
   "metadata": {},
   "outputs": [
    {
     "data": {
      "text/plain": [
       "[<matplotlib.lines.Line2D at 0x7fb6ca97eef0>]"
      ]
     },
     "execution_count": 16,
     "metadata": {},
     "output_type": "execute_result"
    },
    {
     "data": {
      "image/png": "[encoded data removed]",
      "text/plain": [
       "<Figure size 432x288 with 2 Axes>"
      ]
     },
     "metadata": {
      "needs_background": "light"
     },
     "output_type": "display_data"
    }
   ],
   "source": [
    "x = np.linspace(0, 1.0, 100)\n",
    "a = ase_stat['a_hat']\n",
    "b = ase_stat['b_hat']\n",
    "r = stats.beta.pdf(x,a, b)\n",
    "\n",
    "fig,ax = plt.subplots(ncols=2,sharex=True,sharey=True,constrained_layout=True)\n",
    "ax[0].hist(ase['ub_H1']/(ase['ub_H2']+ase['ub_H1']).round(5),density=True)\n",
    "ax[0].set_title('ase',loc='right')\n",
    "ax[0].set_xticks([0,1])\n",
    "ax[0].set_xticklabels(['H2','H1'])\n",
    "ax[0].set_ylabel('Density')\n",
    "\n",
    "ax[1].hist(ase_infer['H1_infer']/(ase_infer['H2_infer']+ase_infer['H1_infer']).round(5),density=True)\n",
    "ax[1].set_title('ase_infer',loc='right')\n",
    "ax[1].set_xticks([0,1])\n",
    "ax[1].set_xticklabels(['H2','H1'])\n",
    "ax[1].plot(x,r, lw=2, c='tab:red')"
   ]
  },
  {
   "cell_type": "code",
   "execution_count": 17,
   "metadata": {},
   "outputs": [],
   "source": [
    "from lib.ase_reform_phased import *\n",
    "\n",
    "ase_infer.columns = ['cb','gene','ub_H1','ub_H2','umi']\n",
    "sparse_mat, allele_list, cb_list = process_phased(ase_infer)\n",
    "\n",
    "cb_idx = pd.DataFrame(cb_list, columns=['cb'])\n",
    "cb_idx.reset_index(inplace=True)\n",
    "allele_idx = pd.DataFrame(allele_list, columns=['allele'])\n",
    "allele_idx.reset_index(inplace=True)"
   ]
  },
  {
   "cell_type": "code",
   "execution_count": 18,
   "metadata": {},
   "outputs": [],
   "source": [
    "from joblib import delayed,Parallel\n",
    "from os import cpu_count\n",
    "from lib.kpe import *\n",
    "\n",
    "method='pb'\n",
    "prefix='./example/test'\n",
    "\n",
    "ase_mat = sparse_mat.toarray()\n",
    "out_index = allele_idx['allele'].tolist()\n",
    "data = Parallel(n_jobs=8)(delayed(est_vec)(vec,method) for i,vec in enumerate(ase_mat))\n",
    "out_kpe_file = prefix + '_' + method + '.est'\n",
    "cols = ['kon','koff','ksyn','n','mean','var']\n",
    "res_df = pd.DataFrame(data,columns=cols,index=out_index)\n",
    "res_df.to_csv(out_kpe_file,float_format=\"%.5f\")\n",
    "ase_out = pd.DataFrame(ase_mat, index=out_index)\n",
    "out_ase_file = prefix + '.ase.reform'\n",
    "ase_out.to_csv(out_ase_file)"
   ]
  },
  {
   "cell_type": "code",
   "execution_count": 19,
   "metadata": {
    "scrolled": true
   },
   "outputs": [
    {
     "data": {
      "text/html": [
       "<div>\n",
       "<style scoped>\n",
       "    .dataframe tbody tr th:only-of-type {\n",
       "        vertical-align: middle;\n",
       "    }\n",
       "\n",
       "    .dataframe tbody tr th {\n",
       "        vertical-align: top;\n",
       "    }\n",
       "\n",
       "    .dataframe thead th {\n",
       "        text-align: right;\n",
       "    }\n",
       "</style>\n",
       "<table border=\"1\" class=\"dataframe\">\n",
       "  <thead>\n",
       "    <tr style=\"text-align: right;\">\n",
       "      <th></th>\n",
       "      <th>kon</th>\n",
       "      <th>koff</th>\n",
       "      <th>ksyn</th>\n",
       "      <th>n</th>\n",
       "      <th>mean</th>\n",
       "      <th>var</th>\n",
       "    </tr>\n",
       "  </thead>\n",
       "  <tbody>\n",
       "    <tr>\n",
       "      <th>ENSG00000196735-H1_allele</th>\n",
       "      <td>1.512842</td>\n",
       "      <td>169.999980</td>\n",
       "      <td>554.034666</td>\n",
       "      <td>5374</td>\n",
       "      <td>4.888165</td>\n",
       "      <td>25.392965</td>\n",
       "    </tr>\n",
       "    <tr>\n",
       "      <th>ENSG00000196735-H2_allele</th>\n",
       "      <td>0.057078</td>\n",
       "      <td>0.995009</td>\n",
       "      <td>7.569292</td>\n",
       "      <td>5374</td>\n",
       "      <td>0.416450</td>\n",
       "      <td>1.886488</td>\n",
       "    </tr>\n",
       "  </tbody>\n",
       "</table>\n",
       "</div>"
      ],
      "text/plain": [
       "                                kon        koff        ksyn     n      mean  \\\n",
       "ENSG00000196735-H1_allele  1.512842  169.999980  554.034666  5374  4.888165   \n",
       "ENSG00000196735-H2_allele  0.057078    0.995009    7.569292  5374  0.416450   \n",
       "\n",
       "                                 var  \n",
       "ENSG00000196735-H1_allele  25.392965  \n",
       "ENSG00000196735-H2_allele   1.886488  "
      ]
     },
     "metadata": {},
     "output_type": "display_data"
    }
   ],
   "source": [
    "display(res_df)"
   ]
  },
  {
   "cell_type": "code",
   "execution_count": 26,
   "metadata": {},
   "outputs": [],
   "source": [
    "from scipy.stats import poisson, beta, power_divergence, chi2\n",
    "from lib.evaluation import *\n",
    "\n",
    "ase_reform = ase_out\n",
    "res_df.dropna(inplace=True)\n",
    "n = res_df['n'].unique()\n",
    "\n",
    "# simulate the expression with pb\n",
    "cols = ['kon','koff','ksyn']\n",
    "simulated_cols = [ 'sim_' + x for x in cols ]\n",
    "simulated_data = Parallel(n_jobs=cpu_count())(delayed(pb_simulation)(row[cols],n) for i,row in res_df.iterrows())\n",
    "\n",
    "# re-estimate the kp from the simulated profile\n",
    "res_data = Parallel(n_jobs=cpu_count())(delayed(est_row)(row,method) for row in simulated_data)\n",
    "res_df[simulated_cols] = res_data\n",
    "\n",
    "# likelihood ratiotest\n",
    "for i, (idx, row) in enumerate(res_df.iterrows()):\n",
    "    sim_data = np.array(simulated_data[i])\n",
    "    org_data = ase_reform.loc[idx].astype(np.float32).values\n",
    "\n",
    "    sim_kp = row[simulated_cols].values\n",
    "    org_kp = row[cols].values\n",
    "\n",
    "    if np.sum(sim_data) == 0:\n",
    "        res_df.loc[idx,'chisq_pval'] = np.nan\n",
    "        res_df.loc[idx,'simlr_pval'] = np.nan\n",
    "        continue\n",
    "\n",
    "    chisq, p = GoF(sim_data, org_data)\n",
    "    simlr = simLikelihoodRatioTest(sim_kp, sim_data, org_kp, org_data)\n",
    "\n",
    "    res_df.loc[idx,'chisq_pval'] = p\n",
    "    res_df.loc[idx,'simlr_pval'] = simlr\n",
    "\n",
    "out_file = prefix + '.est.eval'\n",
    "res_df.to_csv(out_file)"
   ]
  },
  {
   "cell_type": "code",
   "execution_count": 29,
   "metadata": {},
   "outputs": [
    {
     "data": {
      "text/html": [
       "<div>\n",
       "<style scoped>\n",
       "    .dataframe tbody tr th:only-of-type {\n",
       "        vertical-align: middle;\n",
       "    }\n",
       "\n",
       "    .dataframe tbody tr th {\n",
       "        vertical-align: top;\n",
       "    }\n",
       "\n",
       "    .dataframe thead th {\n",
       "        text-align: right;\n",
       "    }\n",
       "</style>\n",
       "<table border=\"1\" class=\"dataframe\">\n",
       "  <thead>\n",
       "    <tr style=\"text-align: right;\">\n",
       "      <th></th>\n",
       "      <th>kon</th>\n",
       "      <th>koff</th>\n",
       "      <th>ksyn</th>\n",
       "    </tr>\n",
       "  </thead>\n",
       "  <tbody>\n",
       "    <tr>\n",
       "      <th>ENSG00000196735-H1_allele</th>\n",
       "      <td>1.512842</td>\n",
       "      <td>169.999980</td>\n",
       "      <td>554.034666</td>\n",
       "    </tr>\n",
       "    <tr>\n",
       "      <th>ENSG00000196735-H2_allele</th>\n",
       "      <td>0.057078</td>\n",
       "      <td>0.995009</td>\n",
       "      <td>7.569292</td>\n",
       "    </tr>\n",
       "  </tbody>\n",
       "</table>\n",
       "</div>"
      ],
      "text/plain": [
       "                                kon        koff        ksyn\n",
       "ENSG00000196735-H1_allele  1.512842  169.999980  554.034666\n",
       "ENSG00000196735-H2_allele  0.057078    0.995009    7.569292"
      ]
     },
     "metadata": {},
     "output_type": "display_data"
    },
    {
     "data": {
      "text/html": [
       "<div>\n",
       "<style scoped>\n",
       "    .dataframe tbody tr th:only-of-type {\n",
       "        vertical-align: middle;\n",
       "    }\n",
       "\n",
       "    .dataframe tbody tr th {\n",
       "        vertical-align: top;\n",
       "    }\n",
       "\n",
       "    .dataframe thead th {\n",
       "        text-align: right;\n",
       "    }\n",
       "</style>\n",
       "<table border=\"1\" class=\"dataframe\">\n",
       "  <thead>\n",
       "    <tr style=\"text-align: right;\">\n",
       "      <th></th>\n",
       "      <th>sim_kon</th>\n",
       "      <th>sim_koff</th>\n",
       "      <th>sim_ksyn</th>\n",
       "    </tr>\n",
       "  </thead>\n",
       "  <tbody>\n",
       "    <tr>\n",
       "      <th>ENSG00000196735-H1_allele</th>\n",
       "      <td>1.476585</td>\n",
       "      <td>126.175930</td>\n",
       "      <td>420.579393</td>\n",
       "    </tr>\n",
       "    <tr>\n",
       "      <th>ENSG00000196735-H2_allele</th>\n",
       "      <td>0.058540</td>\n",
       "      <td>0.900698</td>\n",
       "      <td>7.628224</td>\n",
       "    </tr>\n",
       "  </tbody>\n",
       "</table>\n",
       "</div>"
      ],
      "text/plain": [
       "                            sim_kon    sim_koff    sim_ksyn\n",
       "ENSG00000196735-H1_allele  1.476585  126.175930  420.579393\n",
       "ENSG00000196735-H2_allele  0.058540    0.900698    7.628224"
      ]
     },
     "metadata": {},
     "output_type": "display_data"
    }
   ],
   "source": [
    "display(res_df[cols].head())\n",
    "display(res_df[simulated_cols].head())"
   ]
  },
  {
   "cell_type": "code",
   "execution_count": 33,
   "metadata": {},
   "outputs": [
    {
     "data": {
      "image/png": "[encoded data removed]",
      "text/plain": [
       "<Figure size 432x288 with 2 Axes>"
      ]
     },
     "metadata": {
      "needs_background": "light"
     },
     "output_type": "display_data"
    }
   ],
   "source": [
    "fig,ax = plt.subplots(ncols=2,sharex=True,constrained_layout=True)\n",
    "header=['Haplotype1','Haplotype2']\n",
    "\n",
    "for i, (idx, row) in enumerate(res_df.iterrows()):\n",
    "    sim_data = np.array(simulated_data[i])\n",
    "    org_data = ase_reform.loc[idx].astype(np.float32).values\n",
    "\n",
    "    sim_kp = row[simulated_cols].values\n",
    "    org_kp = row[cols].values\n",
    "    ax[i].set_title(header[i],loc='right')\n",
    "    ax[i].set_xlabel('UMI')\n",
    "    ax[i].set_ylabel('# cell')\n",
    "    ax[i].hist(org_data,label='org')\n",
    "    ax[i].hist(sim_data,label='sim',alpha=0.5)\n",
    "    ax[i].legend(frameon=False)"
   ]
  },
  {
   "cell_type": "code",
   "execution_count": 34,
   "metadata": {},
   "outputs": [],
   "source": [
    "from lib.variance import *\n",
    "# simulate the expression with pb\n",
    "kpe = res_df \n",
    "out_file = prefix + '.est.var'\n",
    "\n",
    "cols = ['kon','koff','ksyn']\n",
    "data = Parallel(n_jobs=cpu_count())(\\\n",
    "delayed(fun)(ase_reform.loc[idx].values, row[cols].values, out_file) for idx,row in kpe.iterrows())\n",
    "\n",
    "add_cols = ['kon_mean','koff_mean', 'ksyn_mean',\\\n",
    "            'kon_lower','kon_upper','koff_lower','koff_upper','ksyn_lower','ksyn_upper']\n",
    "\n",
    "kpe[add_cols] = data\n",
    "\n",
    "kpe.to_csv(out_file,float_format=\"%.5f\")"
   ]
  },
  {
   "cell_type": "code",
   "execution_count": 35,
   "metadata": {},
   "outputs": [
    {
     "data": {
      "text/html": [
       "<div>\n",
       "<style scoped>\n",
       "    .dataframe tbody tr th:only-of-type {\n",
       "        vertical-align: middle;\n",
       "    }\n",
       "\n",
       "    .dataframe tbody tr th {\n",
       "        vertical-align: top;\n",
       "    }\n",
       "\n",
       "    .dataframe thead th {\n",
       "        text-align: right;\n",
       "    }\n",
       "</style>\n",
       "<table border=\"1\" class=\"dataframe\">\n",
       "  <thead>\n",
       "    <tr style=\"text-align: right;\">\n",
       "      <th></th>\n",
       "      <th>kon_mean</th>\n",
       "      <th>kon_lower</th>\n",
       "      <th>kon_upper</th>\n",
       "      <th>koff_mean</th>\n",
       "      <th>koff_lower</th>\n",
       "      <th>koff_upper</th>\n",
       "      <th>ksyn_mean</th>\n",
       "      <th>ksyn_lower</th>\n",
       "      <th>ksyn_upper</th>\n",
       "    </tr>\n",
       "  </thead>\n",
       "  <tbody>\n",
       "    <tr>\n",
       "      <th>ENSG00000196735-H1_allele</th>\n",
       "      <td>1.516480</td>\n",
       "      <td>1.470505</td>\n",
       "      <td>1.553287</td>\n",
       "      <td>169.601634</td>\n",
       "      <td>166.188278</td>\n",
       "      <td>175.796012</td>\n",
       "      <td>553.364526</td>\n",
       "      <td>539.568937</td>\n",
       "      <td>574.382853</td>\n",
       "    </tr>\n",
       "    <tr>\n",
       "      <th>ENSG00000196735-H2_allele</th>\n",
       "      <td>0.056868</td>\n",
       "      <td>0.051193</td>\n",
       "      <td>0.061867</td>\n",
       "      <td>0.994267</td>\n",
       "      <td>0.904094</td>\n",
       "      <td>1.091390</td>\n",
       "      <td>7.544525</td>\n",
       "      <td>6.980317</td>\n",
       "      <td>8.134524</td>\n",
       "    </tr>\n",
       "  </tbody>\n",
       "</table>\n",
       "</div>"
      ],
      "text/plain": [
       "                           kon_mean  kon_lower  kon_upper   koff_mean  \\\n",
       "ENSG00000196735-H1_allele  1.516480   1.470505   1.553287  169.601634   \n",
       "ENSG00000196735-H2_allele  0.056868   0.051193   0.061867    0.994267   \n",
       "\n",
       "                           koff_lower  koff_upper   ksyn_mean  ksyn_lower  \\\n",
       "ENSG00000196735-H1_allele  166.188278  175.796012  553.364526  539.568937   \n",
       "ENSG00000196735-H2_allele    0.904094    1.091390    7.544525    6.980317   \n",
       "\n",
       "                           ksyn_upper  \n",
       "ENSG00000196735-H1_allele  574.382853  \n",
       "ENSG00000196735-H2_allele    8.134524  "
      ]
     },
     "execution_count": 35,
     "metadata": {},
     "output_type": "execute_result"
    }
   ],
   "source": [
    "print_cols = ['kon_mean','kon_lower','kon_upper',\\\n",
    "    'koff_mean','koff_lower','koff_upper',\\\n",
    "    'ksyn_mean','ksyn_lower','ksyn_upper']\n",
    "kpe[print_cols].head()"
   ]
  },
  {
   "cell_type": "code",
   "execution_count": 37,
   "metadata": {},
   "outputs": [
    {
     "data": {
      "image/png": "[encoded data removed]",
      "text/plain": [
       "<Figure size 432x288 with 2 Axes>"
      ]
     },
     "metadata": {
      "needs_background": "light"
     },
     "output_type": "display_data"
    }
   ],
   "source": [
    "fig,ax = plt.subplots(constrained_layout=True, ncols=2)\n",
    "allele = 'ENSG00000196735-H1_allele'\n",
    "\n",
    "y=np.arange(len(cols))\n",
    "kp_org   = ['kon','koff', 'ksyn']\n",
    "kp_mean  = ['kon_mean','koff_mean', 'ksyn_mean']\n",
    "kp_error = ['kon_lower','koff_lower','ksyn_lower','kon_upper','koff_upper','ksyn_upper',]\n",
    "\n",
    "x_org = kpe.loc[allele, kp_org].values.reshape((1,-1))\n",
    "x = kpe.loc[allele, kp_mean].values.reshape((1,-1))\n",
    "x_error = kpe.loc[allele, kp_error].values.reshape((2, -1))\n",
    "x_error_reform = abs(x_error - x)\n",
    "\n",
    "ax[0].errorbar(x.reshape(-1), y, xerr=x_error_reform,fmt='o')\n",
    "ax[0].scatter(x_org.reshape(-1), y+0.1, marker='v', color='#ff7f0e')\n",
    "ax[0].set_xlabel('kp value')\n",
    "ax[0].set_yticks(y)\n",
    "ax[0].set_yticklabels(['kon','koff','ksyn'])\n",
    "\n",
    "ax[1].errorbar(np.ones(len(cols)), y, xerr=x_error_reform/x,fmt='o')\n",
    "ax[1].scatter(x_org/x, y+0.1, marker='v', color='#ff7f0e')\n",
    "ax[1].set_xlabel('relative kp value')\n",
    "ax[1].set_yticks(y)\n",
    "ax[1].set_yticklabels(['kon','koff','ksyn'])\n",
    "\n",
    "plt.show()\n"
   ]
  },
  {
   "cell_type": "code",
   "execution_count": 42,
   "metadata": {},
   "outputs": [
    {
     "data": {
      "text/html": [
       "<div>\n",
       "<style scoped>\n",
       "    .dataframe tbody tr th:only-of-type {\n",
       "        vertical-align: middle;\n",
       "    }\n",
       "\n",
       "    .dataframe tbody tr th {\n",
       "        vertical-align: top;\n",
       "    }\n",
       "\n",
       "    .dataframe thead th {\n",
       "        text-align: right;\n",
       "    }\n",
       "</style>\n",
       "<table border=\"1\" class=\"dataframe\">\n",
       "  <thead>\n",
       "    <tr style=\"text-align: right;\">\n",
       "      <th></th>\n",
       "      <th>gene</th>\n",
       "      <th>nref</th>\n",
       "      <th>nall</th>\n",
       "      <th>percent</th>\n",
       "      <th>a_hat</th>\n",
       "      <th>Ia_lb</th>\n",
       "      <th>Ia_ub</th>\n",
       "      <th>b_hat</th>\n",
       "      <th>Ib_lb</th>\n",
       "      <th>Ib_ub</th>\n",
       "      <th>a_qc</th>\n",
       "      <th>b_qc</th>\n",
       "      <th>qc</th>\n",
       "    </tr>\n",
       "  </thead>\n",
       "  <tbody>\n",
       "    <tr>\n",
       "      <th>0</th>\n",
       "      <td>ENSG00000196735</td>\n",
       "      <td>3309</td>\n",
       "      <td>5374</td>\n",
       "      <td>0.615742</td>\n",
       "      <td>0.722689</td>\n",
       "      <td>0.618249</td>\n",
       "      <td>0.82713</td>\n",
       "      <td>0.062451</td>\n",
       "      <td>0.054068</td>\n",
       "      <td>0.070835</td>\n",
       "      <td>True</td>\n",
       "      <td>True</td>\n",
       "      <td>True</td>\n",
       "    </tr>\n",
       "  </tbody>\n",
       "</table>\n",
       "</div>"
      ],
      "text/plain": [
       "              gene  nref  nall   percent     a_hat     Ia_lb    Ia_ub  \\\n",
       "0  ENSG00000196735  3309  5374  0.615742  0.722689  0.618249  0.82713   \n",
       "\n",
       "      b_hat     Ib_lb     Ib_ub  a_qc  b_qc    qc  \n",
       "0  0.062451  0.054068  0.070835  True  True  True  "
      ]
     },
     "metadata": {},
     "output_type": "display_data"
    }
   ],
   "source": [
    "ase_profile='./example/test.ase.record'\n",
    "ase_eval = pd.read_csv(ase_profile, header=0)\n",
    "ase_eval['a_qc'] = ase_eval.apply(lambda x: (x.Ia_lb > 0) & (x.Ia_ub > 0) ,axis=1)\n",
    "ase_eval['b_qc'] = ase_eval.apply(lambda x: (x.Ib_lb > 0) & (x.Ib_ub > 0),axis=1)\n",
    "ase_eval['qc']   = ase_eval.apply(lambda x: x.a_qc & x.b_qc,axis=1)\n",
    "display(ase_eval)"
   ]
  },
  {
   "cell_type": "code",
   "execution_count": 43,
   "metadata": {},
   "outputs": [
    {
     "data": {
      "text/html": [
       "<div>\n",
       "<style scoped>\n",
       "    .dataframe tbody tr th:only-of-type {\n",
       "        vertical-align: middle;\n",
       "    }\n",
       "\n",
       "    .dataframe tbody tr th {\n",
       "        vertical-align: top;\n",
       "    }\n",
       "\n",
       "    .dataframe thead th {\n",
       "        text-align: right;\n",
       "    }\n",
       "</style>\n",
       "<table border=\"1\" class=\"dataframe\">\n",
       "  <thead>\n",
       "    <tr style=\"text-align: right;\">\n",
       "      <th></th>\n",
       "      <th>kon</th>\n",
       "      <th>koff</th>\n",
       "      <th>ksyn</th>\n",
       "      <th>n</th>\n",
       "      <th>mean</th>\n",
       "      <th>var</th>\n",
       "      <th>sim_kon</th>\n",
       "      <th>sim_koff</th>\n",
       "      <th>sim_ksyn</th>\n",
       "      <th>chisq_pval</th>\n",
       "      <th>...</th>\n",
       "      <th>koff_mean</th>\n",
       "      <th>ksyn_mean</th>\n",
       "      <th>kon_lower</th>\n",
       "      <th>kon_upper</th>\n",
       "      <th>koff_lower</th>\n",
       "      <th>koff_upper</th>\n",
       "      <th>ksyn_lower</th>\n",
       "      <th>ksyn_upper</th>\n",
       "      <th>gene</th>\n",
       "      <th>allele</th>\n",
       "    </tr>\n",
       "  </thead>\n",
       "  <tbody>\n",
       "    <tr>\n",
       "      <th>ENSG00000196735-H1_allele</th>\n",
       "      <td>1.512842</td>\n",
       "      <td>169.999980</td>\n",
       "      <td>554.034666</td>\n",
       "      <td>5374</td>\n",
       "      <td>4.888165</td>\n",
       "      <td>25.392965</td>\n",
       "      <td>1.476585</td>\n",
       "      <td>126.175930</td>\n",
       "      <td>420.579393</td>\n",
       "      <td>0.970115</td>\n",
       "      <td>...</td>\n",
       "      <td>169.601634</td>\n",
       "      <td>553.364526</td>\n",
       "      <td>1.470505</td>\n",
       "      <td>1.553287</td>\n",
       "      <td>166.188278</td>\n",
       "      <td>175.796012</td>\n",
       "      <td>539.568937</td>\n",
       "      <td>574.382853</td>\n",
       "      <td>ENSG00000196735</td>\n",
       "      <td>H1_allele</td>\n",
       "    </tr>\n",
       "    <tr>\n",
       "      <th>ENSG00000196735-H2_allele</th>\n",
       "      <td>0.057078</td>\n",
       "      <td>0.995009</td>\n",
       "      <td>7.569292</td>\n",
       "      <td>5374</td>\n",
       "      <td>0.416450</td>\n",
       "      <td>1.886488</td>\n",
       "      <td>0.058540</td>\n",
       "      <td>0.900698</td>\n",
       "      <td>7.628224</td>\n",
       "      <td>0.750283</td>\n",
       "      <td>...</td>\n",
       "      <td>0.994267</td>\n",
       "      <td>7.544525</td>\n",
       "      <td>0.051193</td>\n",
       "      <td>0.061867</td>\n",
       "      <td>0.904094</td>\n",
       "      <td>1.091390</td>\n",
       "      <td>6.980317</td>\n",
       "      <td>8.134524</td>\n",
       "      <td>ENSG00000196735</td>\n",
       "      <td>H2_allele</td>\n",
       "    </tr>\n",
       "  </tbody>\n",
       "</table>\n",
       "<p>2 rows × 22 columns</p>\n",
       "</div>"
      ],
      "text/plain": [
       "                                kon        koff        ksyn     n      mean  \\\n",
       "ENSG00000196735-H1_allele  1.512842  169.999980  554.034666  5374  4.888165   \n",
       "ENSG00000196735-H2_allele  0.057078    0.995009    7.569292  5374  0.416450   \n",
       "\n",
       "                                 var   sim_kon    sim_koff    sim_ksyn  \\\n",
       "ENSG00000196735-H1_allele  25.392965  1.476585  126.175930  420.579393   \n",
       "ENSG00000196735-H2_allele   1.886488  0.058540    0.900698    7.628224   \n",
       "\n",
       "                           chisq_pval  ...   koff_mean   ksyn_mean  kon_lower  \\\n",
       "ENSG00000196735-H1_allele    0.970115  ...  169.601634  553.364526   1.470505   \n",
       "ENSG00000196735-H2_allele    0.750283  ...    0.994267    7.544525   0.051193   \n",
       "\n",
       "                           kon_upper  koff_lower  koff_upper  ksyn_lower  \\\n",
       "ENSG00000196735-H1_allele   1.553287  166.188278  175.796012  539.568937   \n",
       "ENSG00000196735-H2_allele   0.061867    0.904094    1.091390    6.980317   \n",
       "\n",
       "                           ksyn_upper             gene     allele  \n",
       "ENSG00000196735-H1_allele  574.382853  ENSG00000196735  H1_allele  \n",
       "ENSG00000196735-H2_allele    8.134524  ENSG00000196735  H2_allele  \n",
       "\n",
       "[2 rows x 22 columns]"
      ]
     },
     "metadata": {},
     "output_type": "display_data"
    }
   ],
   "source": [
    "kpe[['gene','allele']] = kpe.index.to_series().str.split('-', n=1, expand=True)\n",
    "filter_gene = ase_eval.loc[ase_eval['qc']==True,'gene']\n",
    "kpe_filter = kpe.loc[kpe['gene'].isin(filter_gene)]\n",
    "display(kpe_filter)"
   ]
  },
  {
   "cell_type": "code",
   "execution_count": null,
   "metadata": {},
   "outputs": [],
   "source": []
  }
 ],
 "metadata": {
  "kernelspec": {
   "display_name": "Python 3",
   "language": "python",
   "name": "python3"
  },
  "language_info": {
   "codemirror_mode": {
    "name": "ipython",
    "version": 3
   },
   "file_extension": ".py",
   "mimetype": "text/x-python",
   "name": "python",
   "nbconvert_exporter": "python",
   "pygments_lexer": "ipython3",
   "version": "3.6.9"
  }
 },
 "nbformat": 4,
 "nbformat_minor": 2
}
